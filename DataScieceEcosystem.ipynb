{
 "cells": [
  {
   "cell_type": "markdown",
   "id": "2acf53b2-f6eb-4d7e-bee0-f8d31f176c90",
   "metadata": {},
   "source": [
    "## Data Science Tools and Ecosystem"
   ]
  },
  {
   "cell_type": "markdown",
   "id": "a10428b8-addc-43c4-87b4-8a97b8833245",
   "metadata": {},
   "source": [
    "In this notebook, Data Science Tools and Ecosystem are summarized."
   ]
  },
  {
   "cell_type": "markdown",
   "id": "8d31a410-1d63-42d5-aa08-258e71e2e249",
   "metadata": {},
   "source": [
    "**Objectives**"
   ]
  },
  {
   "cell_type": "markdown",
   "id": "63fef55a-a440-4387-99fe-8fdd8522b94f",
   "metadata": {},
   "source": [
    "* List popular languages that Data scientists use\n",
    "* List some commonly used libraries\n",
    "* Show evaluation of arithmetic expressions in Python\n",
    "* List some data science tools"
   ]
  },
  {
   "cell_type": "markdown",
   "id": "ad4ddd2e-442f-4352-a83d-896b9d4544d5",
   "metadata": {},
   "source": [
    "Some of the popular languages that Data Scientists use are:"
   ]
  },
  {
   "cell_type": "markdown",
   "id": "21a3f107-c1a7-40b3-b3bf-48a99c1d95c1",
   "metadata": {},
   "source": [
    "1. Julia\n",
    "2. Python\n",
    "3. R"
   ]
  },
  {
   "cell_type": "markdown",
   "id": "b3a4cb64-00dc-4902-ac8f-79be85d7d141",
   "metadata": {},
   "source": [
    "Some of the commonly used libraries used by Data Scientists include:"
   ]
  },
  {
   "cell_type": "markdown",
   "id": "4389d26a-238c-43d9-9ce1-624af36ba18d",
   "metadata": {},
   "source": [
    "1. TensorFlow\n",
    "2. Numpy\n",
    "3. Matplotlib"
   ]
  },
  {
   "cell_type": "markdown",
   "id": "3e7d3aab-fc4b-461b-abf0-bb9827d6bbe3",
   "metadata": {},
   "source": [
    "| Data Science Tools |\n",
    "|---|\n",
    "|JupyterLab|\n",
    "|Spyder|\n",
    "|RStudio|"
   ]
  },
  {
   "cell_type": "markdown",
   "id": "e336cc52-9220-47a7-b711-ed7fcef30ed8",
   "metadata": {},
   "source": [
    "### Below are a few examples of evaluating arithmetic expressions in Python"
   ]
  },
  {
   "cell_type": "code",
   "execution_count": 25,
   "id": "2ca77f31-e0fd-45e9-b367-6d211990367a",
   "metadata": {},
   "outputs": [],
   "source": [
    "# This a simple arithmetic expression to mutiply then add integers"
   ]
  },
  {
   "cell_type": "code",
   "execution_count": 27,
   "id": "0ec9d99a-cfda-4206-a7e6-7b800c903d0f",
   "metadata": {},
   "outputs": [
    {
     "data": {
      "text/plain": [
       "17"
      ]
     },
     "execution_count": 27,
     "metadata": {},
     "output_type": "execute_result"
    }
   ],
   "source": [
    "(3*4)+5"
   ]
  },
  {
   "cell_type": "code",
   "execution_count": 29,
   "id": "3bdad164-c8dc-4654-b904-8754059be19a",
   "metadata": {},
   "outputs": [],
   "source": [
    "#This will convert 200 minutes to hours by diving by 60"
   ]
  },
  {
   "cell_type": "code",
   "execution_count": 31,
   "id": "49e6edf7-4bee-40d7-ad5d-0cf4cb4c880e",
   "metadata": {},
   "outputs": [
    {
     "data": {
      "text/plain": [
       "3.3333333333333335"
      ]
     },
     "execution_count": 31,
     "metadata": {},
     "output_type": "execute_result"
    }
   ],
   "source": [
    "200/60"
   ]
  },
  {
   "cell_type": "markdown",
   "id": "feecb545-dae7-44b6-b2db-be2f40eb2033",
   "metadata": {},
   "source": [
    "## Author"
   ]
  },
  {
   "cell_type": "markdown",
   "id": "2a3ed62f-aefe-4af4-afd5-daa671245f15",
   "metadata": {},
   "source": [
    "Laszlo Sajtos"
   ]
  },
  {
   "cell_type": "code",
   "execution_count": null,
   "id": "9bea042e-109c-427a-8546-b029559b6238",
   "metadata": {},
   "outputs": [],
   "source": []
  }
 ],
 "metadata": {
  "kernelspec": {
   "display_name": "Python 3 (ipykernel)",
   "language": "python",
   "name": "python3"
  },
  "language_info": {
   "codemirror_mode": {
    "name": "ipython",
    "version": 3
   },
   "file_extension": ".py",
   "mimetype": "text/x-python",
   "name": "python",
   "nbconvert_exporter": "python",
   "pygments_lexer": "ipython3",
   "version": "3.11.7"
  }
 },
 "nbformat": 4,
 "nbformat_minor": 5
}
